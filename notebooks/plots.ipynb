{
 "cells": [
  {
   "cell_type": "markdown",
   "metadata": {},
   "source": [
    "### Imports"
   ]
  },
  {
   "cell_type": "code",
   "execution_count": 1,
   "metadata": {},
   "outputs": [],
   "source": [
    "import sys\n",
    "import os\n",
    "import pandas as pd\n",
    "sys.path.append('..')\n",
    "from definitions import OUTPUTS_DIR"
   ]
  },
  {
   "cell_type": "markdown",
   "metadata": {},
   "source": [
    "### Load the results"
   ]
  },
  {
   "cell_type": "code",
   "execution_count": 2,
   "metadata": {},
   "outputs": [],
   "source": [
    "def load(root : str) -> pd.DataFrame:\n",
    "\n",
    "    experiments = os.listdir(root)\n",
    "\n",
    "    data = []\n",
    "\n",
    "    for experiment in experiments:\n",
    "\n",
    "        df = pd.read_csv(os.path.join(root, experiment, 'metrics.csv'))\n",
    "        df['experiment'] = experiment\n",
    "\n",
    "        data.append(df)\n",
    "\n",
    "    return pd.concat(data)"
   ]
  },
  {
   "cell_type": "code",
   "execution_count": 3,
   "metadata": {},
   "outputs": [],
   "source": [
    "results = load(OUTPUTS_DIR)"
   ]
  },
  {
   "cell_type": "code",
   "execution_count": 4,
   "metadata": {},
   "outputs": [
    {
     "data": {
      "text/html": [
       "<div>\n",
       "<style scoped>\n",
       "    .dataframe tbody tr th:only-of-type {\n",
       "        vertical-align: middle;\n",
       "    }\n",
       "\n",
       "    .dataframe tbody tr th {\n",
       "        vertical-align: top;\n",
       "    }\n",
       "\n",
       "    .dataframe thead th {\n",
       "        text-align: right;\n",
       "    }\n",
       "</style>\n",
       "<table border=\"1\" class=\"dataframe\">\n",
       "  <thead>\n",
       "    <tr style=\"text-align: right;\">\n",
       "      <th></th>\n",
       "      <th>filename</th>\n",
       "      <th>iou</th>\n",
       "      <th>dice</th>\n",
       "      <th>pixle_wise_accuracy</th>\n",
       "      <th>flipped</th>\n",
       "      <th>experiment</th>\n",
       "    </tr>\n",
       "  </thead>\n",
       "  <tbody>\n",
       "    <tr>\n",
       "      <th>0</th>\n",
       "      <td>('/home/abdelnour/Documents/ESI/5eme_anne/GNN-...</td>\n",
       "      <td>0.287517</td>\n",
       "      <td>0.446622</td>\n",
       "      <td>0.001122</td>\n",
       "      <td>True</td>\n",
       "      <td>ncut_arma_2</td>\n",
       "    </tr>\n",
       "    <tr>\n",
       "      <th>1</th>\n",
       "      <td>('/home/abdelnour/Documents/ESI/5eme_anne/GNN-...</td>\n",
       "      <td>0.177078</td>\n",
       "      <td>0.300877</td>\n",
       "      <td>0.000000</td>\n",
       "      <td>True</td>\n",
       "      <td>ncut_arma_2</td>\n",
       "    </tr>\n",
       "    <tr>\n",
       "      <th>2</th>\n",
       "      <td>('/home/abdelnour/Documents/ESI/5eme_anne/GNN-...</td>\n",
       "      <td>0.919081</td>\n",
       "      <td>0.957835</td>\n",
       "      <td>0.970667</td>\n",
       "      <td>False</td>\n",
       "      <td>ncut_arma_2</td>\n",
       "    </tr>\n",
       "    <tr>\n",
       "      <th>3</th>\n",
       "      <td>('/home/abdelnour/Documents/ESI/5eme_anne/GNN-...</td>\n",
       "      <td>0.099942</td>\n",
       "      <td>0.181722</td>\n",
       "      <td>0.000010</td>\n",
       "      <td>True</td>\n",
       "      <td>ncut_arma_2</td>\n",
       "    </tr>\n",
       "    <tr>\n",
       "      <th>4</th>\n",
       "      <td>('/home/abdelnour/Documents/ESI/5eme_anne/GNN-...</td>\n",
       "      <td>0.165553</td>\n",
       "      <td>0.284076</td>\n",
       "      <td>0.001611</td>\n",
       "      <td>True</td>\n",
       "      <td>ncut_arma_2</td>\n",
       "    </tr>\n",
       "  </tbody>\n",
       "</table>\n",
       "</div>"
      ],
      "text/plain": [
       "                                            filename       iou      dice  \\\n",
       "0  ('/home/abdelnour/Documents/ESI/5eme_anne/GNN-...  0.287517  0.446622   \n",
       "1  ('/home/abdelnour/Documents/ESI/5eme_anne/GNN-...  0.177078  0.300877   \n",
       "2  ('/home/abdelnour/Documents/ESI/5eme_anne/GNN-...  0.919081  0.957835   \n",
       "3  ('/home/abdelnour/Documents/ESI/5eme_anne/GNN-...  0.099942  0.181722   \n",
       "4  ('/home/abdelnour/Documents/ESI/5eme_anne/GNN-...  0.165553  0.284076   \n",
       "\n",
       "   pixle_wise_accuracy  flipped   experiment  \n",
       "0             0.001122     True  ncut_arma_2  \n",
       "1             0.000000     True  ncut_arma_2  \n",
       "2             0.970667    False  ncut_arma_2  \n",
       "3             0.000010     True  ncut_arma_2  \n",
       "4             0.001611     True  ncut_arma_2  "
      ]
     },
     "execution_count": 4,
     "metadata": {},
     "output_type": "execute_result"
    }
   ],
   "source": [
    "results.head()"
   ]
  },
  {
   "cell_type": "code",
   "execution_count": 8,
   "metadata": {},
   "outputs": [
    {
     "data": {
      "text/plain": [
       "0.5567364831219956"
      ]
     },
     "execution_count": 8,
     "metadata": {},
     "output_type": "execute_result"
    }
   ],
   "source": [
    "results[results['experiment'] == 'ncut_arma']['iou'].mean()"
   ]
  }
 ],
 "metadata": {
  "kernelspec": {
   "display_name": "project",
   "language": "python",
   "name": "python3"
  },
  "language_info": {
   "codemirror_mode": {
    "name": "ipython",
    "version": 3
   },
   "file_extension": ".py",
   "mimetype": "text/x-python",
   "name": "python",
   "nbconvert_exporter": "python",
   "pygments_lexer": "ipython3",
   "version": "3.12.2"
  }
 },
 "nbformat": 4,
 "nbformat_minor": 2
}
